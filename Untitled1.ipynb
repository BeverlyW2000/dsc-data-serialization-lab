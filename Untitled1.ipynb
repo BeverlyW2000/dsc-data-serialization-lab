{
 "cells": [
  {
   "cell_type": "code",
   "execution_count": null,
   "id": "498b5240",
   "metadata": {},
   "outputs": [],
   "source": [
    "1+1"
   ]
  },
  {
   "cell_type": "code",
   "execution_count": null,
   "id": "330d4128",
   "metadata": {},
   "outputs": [],
   "source": []
  }
 ],
 "metadata": {
  "kernelspec": {
   "display_name": "Python (learn-env)",
   "language": "python",
   "name": "learn-env"
  }
 },
 "nbformat": 4,
 "nbformat_minor": 5
}
